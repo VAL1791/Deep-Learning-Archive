{
  "nbformat": 4,
  "nbformat_minor": 0,
  "metadata": {
    "colab": {
      "provenance": []
    },
    "kernelspec": {
      "name": "python3",
      "display_name": "Python 3"
    },
    "language_info": {
      "name": "python"
    },
    "accelerator": "GPU"
  },
  "cells": [
    {
      "cell_type": "markdown",
      "metadata": {
        "id": "RngKMAelr3-Q"
      },
      "source": [
        "<small><font color=gray>Notebook authors: <a href=\"https://www.linkedin.com/in/olegmelnikov/\" target=\"_blank\">Oleg Melnikov</a>, Kiryll Bykov, Alexey Boldyrev ©2025 onwards</font></small><hr style=\"margin:0;background-color:silver\">\n",
        "\n",
        "**[<font size=6>📈Crypto</font>](https://www.kaggle.com/t/6b709a22e09744c580e9f5d23ba90401)**. [**Instructions**](https://colab.research.google.com/drive/1owkYjuRGkx050LQnM3b3yTzd0Dr2XbeV) for running Colabs."
      ]
    },
    {
      "cell_type": "markdown",
      "source": [
        "<small>**CONSENT.** <mark>[ X ]</mark> We consent to sharing our Colab (after the assignment ends) with other students/instructors for educational purposes."
      ],
      "metadata": {
        "id": "SC0pgp0bNK0s"
      }
    },
    {
      "cell_type": "code",
      "source": [
        "from google.colab import drive; drive.mount('/content/drive')   # OK to enable, if kaggle.json is stored in Google Drive"
      ],
      "metadata": {
        "id": "lUqrHtk9a031",
        "colab": {
          "base_uri": "https://localhost:8080/"
        },
        "outputId": "681fdcd4-b7ee-44ef-c831-2edfe35ac9b0"
      },
      "execution_count": null,
      "outputs": [
        {
          "output_type": "stream",
          "name": "stdout",
          "text": [
            "Mounted at /content/drive\n"
          ]
        }
      ]
    },
    {
      "cell_type": "code",
      "metadata": {
        "id": "7mfoxO3JKx3r"
      },
      "source": [
        "%%capture\n",
        "pip install -U kaggle  # upgrade kaggle package (to avoid a warning)"
      ],
      "execution_count": null,
      "outputs": []
    },
    {
      "cell_type": "code",
      "source": [
        "!mkdir -p ~/.kaggle                               # .kaggle folder must contain kaggle.json for kaggle executable to properly authenticate you to Kaggle.com\n",
        "!cp /content/drive/MyDrive/kaggle.json ~/.kaggle/kaggle.json  # First, download kaggle.json from kaggle.com (in Account page) and place it in the root of mounted Google Drive\n",
        "# !cp kaggle.json ~/.kaggle/kaggle.json           # Alternative location of kaggle.json (without a connection to Google Drive)\n",
        "!chmod 600 ~/.kaggle/kaggle.json                  # give only the owner full read/write access to kaggle.json\n",
        "!kaggle config set -n competition -v 1-apr-25-hse-crypto # set the competition context for the next few kaggle API calls. !kaggle config view - shows current settings\n",
        "!kaggle competitions download                     # download competition dataset as a zip file\n",
        "!unzip -o *.zip                                   # Kaggle dataset is copied as a single file and needs to be unzipped.\n",
        "!kaggle competitions leaderboard --show           # print public leaderboard"
      ],
      "metadata": {
        "id": "E4wWE87TGz1Z",
        "colab": {
          "base_uri": "https://localhost:8080/"
        },
        "outputId": "74ce596c-aa7a-46a3-bbed-4a2be8761ade"
      },
      "execution_count": null,
      "outputs": [
        {
          "output_type": "stream",
          "name": "stdout",
          "text": [
            "- competition is now set to: 1-apr-25-hse-crypto\n",
            "Using competition: 1-apr-25-hse-crypto\n",
            "Archive:  1-apr-25-hse-crypto.zip\n",
            "  inflating: sampleSubmission.csv    \n",
            "  inflating: tXY.csv                 \n",
            "Using competition: 1-apr-25-hse-crypto\n",
            "  teamId  teamName               submissionDate              score    \n",
            "--------  ---------------------  --------------------------  -------  \n",
            "13588645  Z                      2025-04-10 19:29:27.796000  0.62696  \n",
            "13606285  E                      2025-04-11 11:15:19.306000  0.61008  \n",
            "13588121  A                      2025-04-11 07:02:31.473000  0.59501  \n",
            "13608137  D                      2025-04-11 10:36:57.763000  0.58182  \n",
            "13616218  M                      2025-04-11 06:14:10.850000  0.55565  \n",
            "13597158  Q                      2025-04-11 11:25:19.656000  0.48917  \n",
            "13608979  AM                     2025-04-04 11:20:36.466000  0.47269  \n",
            "13638438  📈 AI                   2025-04-09 19:55:52.650000  0.46910  \n",
            "13604299  S                      2025-04-11 10:32:03.276000  0.44160  \n",
            "13605877  H                      2025-04-11 10:45:13.066000  0.31794  \n",
            "13608334  W                      2025-04-11 09:08:13.083000  0.27902  \n",
            "13609429  K🏋️‍♀️                 2025-04-11 10:35:36.680000  0.20610  \n",
            "13588342  bomboclaat rastaclaat  2025-04-11 09:45:05.140000  0.14739  \n",
            "13605615  P                      2025-04-09 09:01:19.800000  0.14367  \n",
            "13603470  ADovy ADok             2025-04-04 13:00:08.926000  0.14236  \n",
            "13588426  Team X                 2025-04-11 00:27:53.576000  0.14149  \n",
            "13608609  cool AF                2025-04-04 10:02:29.826000  0.13807  \n",
            "13609884  AL                     2025-04-04 14:12:54.133000  0.13741  \n",
            "13608079  AA                     2025-04-10 18:16:54.940000  0.13681  \n",
            "13606414  Y                      2025-04-10 23:41:55.326000  0.13656  \n",
            "13606093  Yeegaure               2025-04-07 15:34:20.583000  0.13563  \n",
            "13608869  B                      2025-04-11 09:12:58.806000  0.13343  \n",
            "13609619  Timofey Suslov         2025-04-04 13:51:11.310000  0.13343  \n",
            "13653053  AK.                    2025-04-11 05:54:53.266000  0.13240  \n",
            "13608806  AE                     2025-04-04 13:59:51.493000  0.13208  \n",
            "13608213  team I                 2025-04-04 09:25:11.973000  0.13196  \n",
            "13609067  AM AM AM               2025-04-04 13:23:32.400000  0.13153  \n",
            "13608578  Безверхов Александр    2025-04-10 14:08:28.810000  0.13134  \n",
            "13597844  O                      2025-04-11 11:06:25.366000  0.13127  \n",
            "13609051  F                      2025-04-04 11:59:14.280000  0.13120  \n",
            "13605343  J                      2025-04-04 15:09:41.533000  0.13113  \n",
            "13609825  U                      2025-04-04 13:56:30.510000  0.13083  \n",
            "13605422  Eldar Siyukhov         2025-04-04 12:08:16.976000  0.13049  \n",
            "13608809  T                      2025-04-11 10:53:44.396000  0.12413  \n",
            "13606457  AG                     2025-04-03 23:30:33.356000  0.12279  \n",
            "13584070  Baseline               2024-03-10 17:33:59.403000  0.12214  \n",
            "13584106  Crypto-baseline.csv    2025-03-31 21:34:34.406000  0.12214  \n"
          ]
        }
      ]
    },
    {
      "cell_type": "markdown",
      "metadata": {
        "id": "aCP_1mf5nPKa"
      },
      "source": [
        "See [more](https://nvidia.custhelp.com/app/answers/detail/a_id/3751/~/useful-nvidia-smi-queries) about NVIDIA GPU stats. Test your code in (free) Colab. It uses Tesla T4 or Tesla K80 GPU."
      ]
    },
    {
      "cell_type": "code",
      "metadata": {
        "id": "x0PisekMlkbV",
        "colab": {
          "base_uri": "https://localhost:8080/"
        },
        "outputId": "d5cabec9-7a6d-48bf-d9d8-f673e45d10bb"
      },
      "source": [
        "!nvidia-smi --query-gpu=gpu_name,memory.total,memory.free,memory.used --format=csv"
      ],
      "execution_count": null,
      "outputs": [
        {
          "output_type": "stream",
          "name": "stdout",
          "text": [
            "name, memory.total [MiB], memory.free [MiB], memory.used [MiB]\n",
            "Tesla T4, 15360 MiB, 15095 MiB, 0 MiB\n"
          ]
        }
      ]
    },
    {
      "cell_type": "code",
      "metadata": {
        "id": "XNs8WbjzTp71",
        "colab": {
          "base_uri": "https://localhost:8080/"
        },
        "outputId": "f67bbc99-ab35-4938-9183-78d9d7dec486"
      },
      "source": [
        "%%time\n",
        "%%capture\n",
        "%reset -f\n",
        "from IPython.core.interactiveshell import InteractiveShell as IS; IS.ast_node_interactivity = \"all\"\n",
        "import numpy as np, pandas as pd, time, matplotlib.pyplot as plt, os\n",
        "import torch\n",
        "from torch import nn\n",
        "from torch.utils.data import DataLoader, TensorDataset, random_split\n",
        "from sklearn.preprocessing import StandardScaler\n",
        "torch.backends.cudnn.deterministic = True\n",
        "torch.backends.cudnn.benchmark = False\n",
        "torch.manual_seed(0)\n",
        "torch.cuda.manual_seed_all(0)\n",
        "ToCSV = lambda df, fname: df.round(2).to_csv(f'{fname}.csv', index_label='id') # rounds values to 2 decimals\n",
        "\n",
        "class Timer():\n",
        "  def __init__(self, lim:'RunTimeLimit'=60*5): self.t0, self.lim, _ = time.time(), lim, print(f'⏳ started. You have {lim} sec. Good luck!')\n",
        "  def ShowTime(self):\n",
        "    msg = f'Runtime is {time.time()-self.t0:.0f} sec'\n",
        "    print(f'\\033[91m\\033[1m' + msg + f' > {self.lim} sec limit!!!\\033[0m' if (time.time()-self.t0-1) > self.lim else msg)\n",
        "\n",
        "np.set_printoptions(linewidth=100, precision=2, edgeitems=5, suppress=True)\n",
        "pd.set_option('display.max_columns', 20, 'display.precision', 2, 'display.max_rows', 4)"
      ],
      "execution_count": null,
      "outputs": [
        {
          "output_type": "stream",
          "name": "stdout",
          "text": [
            "CPU times: user 313 ms, sys: 1.61 ms, total: 315 ms\n",
            "Wall time: 314 ms\n"
          ]
        }
      ]
    },
    {
      "cell_type": "markdown",
      "metadata": {
        "id": "PgkRR6ZWTthh"
      },
      "source": [
        "Your training data are 7 descriptive features for past 500K observations. See helpful [Tutorial to the G-Research Crypto Competition](https://www.kaggle.com/cstein06/tutorial-to-the-g-research-crypto-competition)."
      ]
    },
    {
      "cell_type": "code",
      "metadata": {
        "id": "wsKZJFsLTvg2",
        "colab": {
          "base_uri": "https://localhost:8080/",
          "height": 260
        },
        "outputId": "63a35783-9af1-4d5c-a01b-74ce20988389"
      },
      "source": [
        "tXY = pd.read_csv('tXY.csv', index_col='id'); tXY"
      ],
      "execution_count": null,
      "outputs": [
        {
          "output_type": "execute_result",
          "data": {
            "text/plain": [
              "        Count  Open  High   Low  Close  Volume  VWAP\n",
              "id                                                  \n",
              "0          64  0.20  0.20  0.20   0.20     447  0.20\n",
              "1          72  0.20  0.20  0.20   0.20     592  0.20\n",
              "...       ...   ...   ...   ...    ...     ...   ...\n",
              "499998   1636  1.15  1.16  1.15   1.15    2615  1.15\n",
              "499999   3228  1.13  1.14  1.12   1.13    3354  1.13\n",
              "\n",
              "[500000 rows x 7 columns]"
            ],
            "text/html": [
              "\n",
              "  <div id=\"df-0d461d41-f12e-46b6-aa6d-bc9d2d92391d\" class=\"colab-df-container\">\n",
              "    <div>\n",
              "<style scoped>\n",
              "    .dataframe tbody tr th:only-of-type {\n",
              "        vertical-align: middle;\n",
              "    }\n",
              "\n",
              "    .dataframe tbody tr th {\n",
              "        vertical-align: top;\n",
              "    }\n",
              "\n",
              "    .dataframe thead th {\n",
              "        text-align: right;\n",
              "    }\n",
              "</style>\n",
              "<table border=\"1\" class=\"dataframe\">\n",
              "  <thead>\n",
              "    <tr style=\"text-align: right;\">\n",
              "      <th></th>\n",
              "      <th>Count</th>\n",
              "      <th>Open</th>\n",
              "      <th>High</th>\n",
              "      <th>Low</th>\n",
              "      <th>Close</th>\n",
              "      <th>Volume</th>\n",
              "      <th>VWAP</th>\n",
              "    </tr>\n",
              "    <tr>\n",
              "      <th>id</th>\n",
              "      <th></th>\n",
              "      <th></th>\n",
              "      <th></th>\n",
              "      <th></th>\n",
              "      <th></th>\n",
              "      <th></th>\n",
              "      <th></th>\n",
              "    </tr>\n",
              "  </thead>\n",
              "  <tbody>\n",
              "    <tr>\n",
              "      <th>0</th>\n",
              "      <td>64</td>\n",
              "      <td>0.20</td>\n",
              "      <td>0.20</td>\n",
              "      <td>0.20</td>\n",
              "      <td>0.20</td>\n",
              "      <td>447</td>\n",
              "      <td>0.20</td>\n",
              "    </tr>\n",
              "    <tr>\n",
              "      <th>1</th>\n",
              "      <td>72</td>\n",
              "      <td>0.20</td>\n",
              "      <td>0.20</td>\n",
              "      <td>0.20</td>\n",
              "      <td>0.20</td>\n",
              "      <td>592</td>\n",
              "      <td>0.20</td>\n",
              "    </tr>\n",
              "    <tr>\n",
              "      <th>...</th>\n",
              "      <td>...</td>\n",
              "      <td>...</td>\n",
              "      <td>...</td>\n",
              "      <td>...</td>\n",
              "      <td>...</td>\n",
              "      <td>...</td>\n",
              "      <td>...</td>\n",
              "    </tr>\n",
              "    <tr>\n",
              "      <th>499998</th>\n",
              "      <td>1636</td>\n",
              "      <td>1.15</td>\n",
              "      <td>1.16</td>\n",
              "      <td>1.15</td>\n",
              "      <td>1.15</td>\n",
              "      <td>2615</td>\n",
              "      <td>1.15</td>\n",
              "    </tr>\n",
              "    <tr>\n",
              "      <th>499999</th>\n",
              "      <td>3228</td>\n",
              "      <td>1.13</td>\n",
              "      <td>1.14</td>\n",
              "      <td>1.12</td>\n",
              "      <td>1.13</td>\n",
              "      <td>3354</td>\n",
              "      <td>1.13</td>\n",
              "    </tr>\n",
              "  </tbody>\n",
              "</table>\n",
              "<p>500000 rows × 7 columns</p>\n",
              "</div>\n",
              "    <div class=\"colab-df-buttons\">\n",
              "\n",
              "  <div class=\"colab-df-container\">\n",
              "    <button class=\"colab-df-convert\" onclick=\"convertToInteractive('df-0d461d41-f12e-46b6-aa6d-bc9d2d92391d')\"\n",
              "            title=\"Convert this dataframe to an interactive table.\"\n",
              "            style=\"display:none;\">\n",
              "\n",
              "  <svg xmlns=\"http://www.w3.org/2000/svg\" height=\"24px\" viewBox=\"0 -960 960 960\">\n",
              "    <path d=\"M120-120v-720h720v720H120Zm60-500h600v-160H180v160Zm220 220h160v-160H400v160Zm0 220h160v-160H400v160ZM180-400h160v-160H180v160Zm440 0h160v-160H620v160ZM180-180h160v-160H180v160Zm440 0h160v-160H620v160Z\"/>\n",
              "  </svg>\n",
              "    </button>\n",
              "\n",
              "  <style>\n",
              "    .colab-df-container {\n",
              "      display:flex;\n",
              "      gap: 12px;\n",
              "    }\n",
              "\n",
              "    .colab-df-convert {\n",
              "      background-color: #E8F0FE;\n",
              "      border: none;\n",
              "      border-radius: 50%;\n",
              "      cursor: pointer;\n",
              "      display: none;\n",
              "      fill: #1967D2;\n",
              "      height: 32px;\n",
              "      padding: 0 0 0 0;\n",
              "      width: 32px;\n",
              "    }\n",
              "\n",
              "    .colab-df-convert:hover {\n",
              "      background-color: #E2EBFA;\n",
              "      box-shadow: 0px 1px 2px rgba(60, 64, 67, 0.3), 0px 1px 3px 1px rgba(60, 64, 67, 0.15);\n",
              "      fill: #174EA6;\n",
              "    }\n",
              "\n",
              "    .colab-df-buttons div {\n",
              "      margin-bottom: 4px;\n",
              "    }\n",
              "\n",
              "    [theme=dark] .colab-df-convert {\n",
              "      background-color: #3B4455;\n",
              "      fill: #D2E3FC;\n",
              "    }\n",
              "\n",
              "    [theme=dark] .colab-df-convert:hover {\n",
              "      background-color: #434B5C;\n",
              "      box-shadow: 0px 1px 3px 1px rgba(0, 0, 0, 0.15);\n",
              "      filter: drop-shadow(0px 1px 2px rgba(0, 0, 0, 0.3));\n",
              "      fill: #FFFFFF;\n",
              "    }\n",
              "  </style>\n",
              "\n",
              "    <script>\n",
              "      const buttonEl =\n",
              "        document.querySelector('#df-0d461d41-f12e-46b6-aa6d-bc9d2d92391d button.colab-df-convert');\n",
              "      buttonEl.style.display =\n",
              "        google.colab.kernel.accessAllowed ? 'block' : 'none';\n",
              "\n",
              "      async function convertToInteractive(key) {\n",
              "        const element = document.querySelector('#df-0d461d41-f12e-46b6-aa6d-bc9d2d92391d');\n",
              "        const dataTable =\n",
              "          await google.colab.kernel.invokeFunction('convertToInteractive',\n",
              "                                                    [key], {});\n",
              "        if (!dataTable) return;\n",
              "\n",
              "        const docLinkHtml = 'Like what you see? Visit the ' +\n",
              "          '<a target=\"_blank\" href=https://colab.research.google.com/notebooks/data_table.ipynb>data table notebook</a>'\n",
              "          + ' to learn more about interactive tables.';\n",
              "        element.innerHTML = '';\n",
              "        dataTable['output_type'] = 'display_data';\n",
              "        await google.colab.output.renderOutput(dataTable, element);\n",
              "        const docLink = document.createElement('div');\n",
              "        docLink.innerHTML = docLinkHtml;\n",
              "        element.appendChild(docLink);\n",
              "      }\n",
              "    </script>\n",
              "  </div>\n",
              "\n",
              "\n",
              "<div id=\"df-f4bafd5d-fab2-4824-a56f-f2cbb3c0e496\">\n",
              "  <button class=\"colab-df-quickchart\" onclick=\"quickchart('df-f4bafd5d-fab2-4824-a56f-f2cbb3c0e496')\"\n",
              "            title=\"Suggest charts\"\n",
              "            style=\"display:none;\">\n",
              "\n",
              "<svg xmlns=\"http://www.w3.org/2000/svg\" height=\"24px\"viewBox=\"0 0 24 24\"\n",
              "     width=\"24px\">\n",
              "    <g>\n",
              "        <path d=\"M19 3H5c-1.1 0-2 .9-2 2v14c0 1.1.9 2 2 2h14c1.1 0 2-.9 2-2V5c0-1.1-.9-2-2-2zM9 17H7v-7h2v7zm4 0h-2V7h2v10zm4 0h-2v-4h2v4z\"/>\n",
              "    </g>\n",
              "</svg>\n",
              "  </button>\n",
              "\n",
              "<style>\n",
              "  .colab-df-quickchart {\n",
              "      --bg-color: #E8F0FE;\n",
              "      --fill-color: #1967D2;\n",
              "      --hover-bg-color: #E2EBFA;\n",
              "      --hover-fill-color: #174EA6;\n",
              "      --disabled-fill-color: #AAA;\n",
              "      --disabled-bg-color: #DDD;\n",
              "  }\n",
              "\n",
              "  [theme=dark] .colab-df-quickchart {\n",
              "      --bg-color: #3B4455;\n",
              "      --fill-color: #D2E3FC;\n",
              "      --hover-bg-color: #434B5C;\n",
              "      --hover-fill-color: #FFFFFF;\n",
              "      --disabled-bg-color: #3B4455;\n",
              "      --disabled-fill-color: #666;\n",
              "  }\n",
              "\n",
              "  .colab-df-quickchart {\n",
              "    background-color: var(--bg-color);\n",
              "    border: none;\n",
              "    border-radius: 50%;\n",
              "    cursor: pointer;\n",
              "    display: none;\n",
              "    fill: var(--fill-color);\n",
              "    height: 32px;\n",
              "    padding: 0;\n",
              "    width: 32px;\n",
              "  }\n",
              "\n",
              "  .colab-df-quickchart:hover {\n",
              "    background-color: var(--hover-bg-color);\n",
              "    box-shadow: 0 1px 2px rgba(60, 64, 67, 0.3), 0 1px 3px 1px rgba(60, 64, 67, 0.15);\n",
              "    fill: var(--button-hover-fill-color);\n",
              "  }\n",
              "\n",
              "  .colab-df-quickchart-complete:disabled,\n",
              "  .colab-df-quickchart-complete:disabled:hover {\n",
              "    background-color: var(--disabled-bg-color);\n",
              "    fill: var(--disabled-fill-color);\n",
              "    box-shadow: none;\n",
              "  }\n",
              "\n",
              "  .colab-df-spinner {\n",
              "    border: 2px solid var(--fill-color);\n",
              "    border-color: transparent;\n",
              "    border-bottom-color: var(--fill-color);\n",
              "    animation:\n",
              "      spin 1s steps(1) infinite;\n",
              "  }\n",
              "\n",
              "  @keyframes spin {\n",
              "    0% {\n",
              "      border-color: transparent;\n",
              "      border-bottom-color: var(--fill-color);\n",
              "      border-left-color: var(--fill-color);\n",
              "    }\n",
              "    20% {\n",
              "      border-color: transparent;\n",
              "      border-left-color: var(--fill-color);\n",
              "      border-top-color: var(--fill-color);\n",
              "    }\n",
              "    30% {\n",
              "      border-color: transparent;\n",
              "      border-left-color: var(--fill-color);\n",
              "      border-top-color: var(--fill-color);\n",
              "      border-right-color: var(--fill-color);\n",
              "    }\n",
              "    40% {\n",
              "      border-color: transparent;\n",
              "      border-right-color: var(--fill-color);\n",
              "      border-top-color: var(--fill-color);\n",
              "    }\n",
              "    60% {\n",
              "      border-color: transparent;\n",
              "      border-right-color: var(--fill-color);\n",
              "    }\n",
              "    80% {\n",
              "      border-color: transparent;\n",
              "      border-right-color: var(--fill-color);\n",
              "      border-bottom-color: var(--fill-color);\n",
              "    }\n",
              "    90% {\n",
              "      border-color: transparent;\n",
              "      border-bottom-color: var(--fill-color);\n",
              "    }\n",
              "  }\n",
              "</style>\n",
              "\n",
              "  <script>\n",
              "    async function quickchart(key) {\n",
              "      const quickchartButtonEl =\n",
              "        document.querySelector('#' + key + ' button');\n",
              "      quickchartButtonEl.disabled = true;  // To prevent multiple clicks.\n",
              "      quickchartButtonEl.classList.add('colab-df-spinner');\n",
              "      try {\n",
              "        const charts = await google.colab.kernel.invokeFunction(\n",
              "            'suggestCharts', [key], {});\n",
              "      } catch (error) {\n",
              "        console.error('Error during call to suggestCharts:', error);\n",
              "      }\n",
              "      quickchartButtonEl.classList.remove('colab-df-spinner');\n",
              "      quickchartButtonEl.classList.add('colab-df-quickchart-complete');\n",
              "    }\n",
              "    (() => {\n",
              "      let quickchartButtonEl =\n",
              "        document.querySelector('#df-f4bafd5d-fab2-4824-a56f-f2cbb3c0e496 button');\n",
              "      quickchartButtonEl.style.display =\n",
              "        google.colab.kernel.accessAllowed ? 'block' : 'none';\n",
              "    })();\n",
              "  </script>\n",
              "</div>\n",
              "    </div>\n",
              "  </div>\n"
            ],
            "application/vnd.google.colaboratory.intrinsic+json": {
              "type": "dataframe",
              "variable_name": "tXY"
            }
          },
          "metadata": {},
          "execution_count": 25
        }
      ]
    },
    {
      "cell_type": "markdown",
      "metadata": {
        "id": "1FtA9fjlTyAi"
      },
      "source": [
        "Your task is to forecast the closing price for all future time steps (index IDs below)."
      ]
    },
    {
      "cell_type": "code",
      "metadata": {
        "id": "bQjKkPbnTzf2",
        "colab": {
          "base_uri": "https://localhost:8080/",
          "height": 127
        },
        "outputId": "ac6c6017-dde8-4892-d85a-9fa04a1a5a6d"
      },
      "source": [
        "pY = pd.read_csv('sampleSubmission.csv', index_col='id'); pY.T"
      ],
      "execution_count": null,
      "outputs": [
        {
          "output_type": "execute_result",
          "data": {
            "text/plain": [
              "id     500000  500001  500002  500003  500004  500005  500006  500007  500008  \\\n",
              "Close       0       0       0       0       0       0       0       0       0   \n",
              "\n",
              "id     500009  ...  524421  524422  524423  524424  524425  524426  524427  \\\n",
              "Close       0  ...       0       0       0       0       0       0       0   \n",
              "\n",
              "id     524428  524429  524430  \n",
              "Close       0       0       0  \n",
              "\n",
              "[1 rows x 24431 columns]"
            ],
            "text/html": [
              "\n",
              "  <div id=\"df-ac530153-65f7-4962-a94f-8d502c6b57c2\" class=\"colab-df-container\">\n",
              "    <div>\n",
              "<style scoped>\n",
              "    .dataframe tbody tr th:only-of-type {\n",
              "        vertical-align: middle;\n",
              "    }\n",
              "\n",
              "    .dataframe tbody tr th {\n",
              "        vertical-align: top;\n",
              "    }\n",
              "\n",
              "    .dataframe thead th {\n",
              "        text-align: right;\n",
              "    }\n",
              "</style>\n",
              "<table border=\"1\" class=\"dataframe\">\n",
              "  <thead>\n",
              "    <tr style=\"text-align: right;\">\n",
              "      <th>id</th>\n",
              "      <th>500000</th>\n",
              "      <th>500001</th>\n",
              "      <th>500002</th>\n",
              "      <th>500003</th>\n",
              "      <th>500004</th>\n",
              "      <th>500005</th>\n",
              "      <th>500006</th>\n",
              "      <th>500007</th>\n",
              "      <th>500008</th>\n",
              "      <th>500009</th>\n",
              "      <th>...</th>\n",
              "      <th>524421</th>\n",
              "      <th>524422</th>\n",
              "      <th>524423</th>\n",
              "      <th>524424</th>\n",
              "      <th>524425</th>\n",
              "      <th>524426</th>\n",
              "      <th>524427</th>\n",
              "      <th>524428</th>\n",
              "      <th>524429</th>\n",
              "      <th>524430</th>\n",
              "    </tr>\n",
              "  </thead>\n",
              "  <tbody>\n",
              "    <tr>\n",
              "      <th>Close</th>\n",
              "      <td>0</td>\n",
              "      <td>0</td>\n",
              "      <td>0</td>\n",
              "      <td>0</td>\n",
              "      <td>0</td>\n",
              "      <td>0</td>\n",
              "      <td>0</td>\n",
              "      <td>0</td>\n",
              "      <td>0</td>\n",
              "      <td>0</td>\n",
              "      <td>...</td>\n",
              "      <td>0</td>\n",
              "      <td>0</td>\n",
              "      <td>0</td>\n",
              "      <td>0</td>\n",
              "      <td>0</td>\n",
              "      <td>0</td>\n",
              "      <td>0</td>\n",
              "      <td>0</td>\n",
              "      <td>0</td>\n",
              "      <td>0</td>\n",
              "    </tr>\n",
              "  </tbody>\n",
              "</table>\n",
              "<p>1 rows × 24431 columns</p>\n",
              "</div>\n",
              "    <div class=\"colab-df-buttons\">\n",
              "\n",
              "  <div class=\"colab-df-container\">\n",
              "    <button class=\"colab-df-convert\" onclick=\"convertToInteractive('df-ac530153-65f7-4962-a94f-8d502c6b57c2')\"\n",
              "            title=\"Convert this dataframe to an interactive table.\"\n",
              "            style=\"display:none;\">\n",
              "\n",
              "  <svg xmlns=\"http://www.w3.org/2000/svg\" height=\"24px\" viewBox=\"0 -960 960 960\">\n",
              "    <path d=\"M120-120v-720h720v720H120Zm60-500h600v-160H180v160Zm220 220h160v-160H400v160Zm0 220h160v-160H400v160ZM180-400h160v-160H180v160Zm440 0h160v-160H620v160ZM180-180h160v-160H180v160Zm440 0h160v-160H620v160Z\"/>\n",
              "  </svg>\n",
              "    </button>\n",
              "\n",
              "  <style>\n",
              "    .colab-df-container {\n",
              "      display:flex;\n",
              "      gap: 12px;\n",
              "    }\n",
              "\n",
              "    .colab-df-convert {\n",
              "      background-color: #E8F0FE;\n",
              "      border: none;\n",
              "      border-radius: 50%;\n",
              "      cursor: pointer;\n",
              "      display: none;\n",
              "      fill: #1967D2;\n",
              "      height: 32px;\n",
              "      padding: 0 0 0 0;\n",
              "      width: 32px;\n",
              "    }\n",
              "\n",
              "    .colab-df-convert:hover {\n",
              "      background-color: #E2EBFA;\n",
              "      box-shadow: 0px 1px 2px rgba(60, 64, 67, 0.3), 0px 1px 3px 1px rgba(60, 64, 67, 0.15);\n",
              "      fill: #174EA6;\n",
              "    }\n",
              "\n",
              "    .colab-df-buttons div {\n",
              "      margin-bottom: 4px;\n",
              "    }\n",
              "\n",
              "    [theme=dark] .colab-df-convert {\n",
              "      background-color: #3B4455;\n",
              "      fill: #D2E3FC;\n",
              "    }\n",
              "\n",
              "    [theme=dark] .colab-df-convert:hover {\n",
              "      background-color: #434B5C;\n",
              "      box-shadow: 0px 1px 3px 1px rgba(0, 0, 0, 0.15);\n",
              "      filter: drop-shadow(0px 1px 2px rgba(0, 0, 0, 0.3));\n",
              "      fill: #FFFFFF;\n",
              "    }\n",
              "  </style>\n",
              "\n",
              "    <script>\n",
              "      const buttonEl =\n",
              "        document.querySelector('#df-ac530153-65f7-4962-a94f-8d502c6b57c2 button.colab-df-convert');\n",
              "      buttonEl.style.display =\n",
              "        google.colab.kernel.accessAllowed ? 'block' : 'none';\n",
              "\n",
              "      async function convertToInteractive(key) {\n",
              "        const element = document.querySelector('#df-ac530153-65f7-4962-a94f-8d502c6b57c2');\n",
              "        const dataTable =\n",
              "          await google.colab.kernel.invokeFunction('convertToInteractive',\n",
              "                                                    [key], {});\n",
              "        if (!dataTable) return;\n",
              "\n",
              "        const docLinkHtml = 'Like what you see? Visit the ' +\n",
              "          '<a target=\"_blank\" href=https://colab.research.google.com/notebooks/data_table.ipynb>data table notebook</a>'\n",
              "          + ' to learn more about interactive tables.';\n",
              "        element.innerHTML = '';\n",
              "        dataTable['output_type'] = 'display_data';\n",
              "        await google.colab.output.renderOutput(dataTable, element);\n",
              "        const docLink = document.createElement('div');\n",
              "        docLink.innerHTML = docLinkHtml;\n",
              "        element.appendChild(docLink);\n",
              "      }\n",
              "    </script>\n",
              "  </div>\n",
              "\n",
              "    </div>\n",
              "  </div>\n"
            ],
            "application/vnd.google.colaboratory.intrinsic+json": {
              "type": "dataframe"
            }
          },
          "metadata": {},
          "execution_count": 26
        }
      ]
    },
    {
      "cell_type": "code",
      "metadata": {
        "id": "9XSZyYCpT1Pk",
        "colab": {
          "base_uri": "https://localhost:8080/"
        },
        "outputId": "9827927a-dd4d-4467-e2a1-059f73306e92"
      },
      "source": [
        "tmr = Timer() # runtime limit (in seconds). Add all of your code after the timer"
      ],
      "execution_count": null,
      "outputs": [
        {
          "output_type": "stream",
          "name": "stdout",
          "text": [
            "⏳ started. You have 300 sec. Good luck!\n"
          ]
        }
      ]
    },
    {
      "cell_type": "markdown",
      "metadata": {
        "id": "Xpo-Pp0_T5vv"
      },
      "source": [
        "<font size=5>⏳</font> <strong><font color=orange size=5>Your Code, Documentation, Ideas and Timer Start Here...</font></strong>\n"
      ]
    },
    {
      "cell_type": "markdown",
      "metadata": {
        "id": "8lwJKYCgT9nt"
      },
      "source": [
        "**TODO. Explain your preprocessing:** i.e. feature engineering, subsampling, clustering, dimensionality reduction, etc."
      ]
    },
    {
      "cell_type": "markdown",
      "metadata": {
        "id": "ywEf1PZUT_nX"
      },
      "source": [
        "**TODO. Explain your modeling approach:** ideas you tried and why you thought they would be helpful. Takeaway: how these decisions guided you in modeling."
      ]
    },
    {
      "cell_type": "markdown",
      "source": [],
      "metadata": {
        "id": "HyLrfJgW9wIS"
      }
    },
    {
      "cell_type": "markdown",
      "source": [
        "### Preprocessing\n",
        "\n",
        "Our initial challenge was to transform raw crypto data into a form that’s both understandable and useful for analysis. We kicked off with an exploratory analysis to get a feel for the data, which set the stage for our more detailed preprocessing steps. Here’s a breakdown of what we did:\n",
        "\n",
        "1. Data Cleaning and Normalization:  \n",
        "   We spent a considerable amount of time dealing with missing data and outliers—common issues in crypto datasets. Normalization was crucial, since the wide range of values across different features could otherwise skew our models.\n",
        "\n",
        "2. Feature Engineering:  \n",
        "   We believe the magic often happens when you create the right features. In this project, we engineered several new variables that capture important aspects of the crypto market. For instance, we calculated technical indicators such as moving averages, the relative strength index (RSI), and volatility measures.\n",
        "\n",
        "3. Subsampling:  \n",
        "   With the massive volume of crypto data at hand, subsampling became an essential step. We crafted a strategy to sample data from different time periods and under varying market conditions. This balanced approach helped us avoid overfitting and ensured that our models were exposed to a wide range of scenarios.\n",
        "\n",
        "4. Clustering and Dimensionality Reduction:  \n",
        "   To manage the high dimensionality of our data and to unearth underlying patterns, we applied clustering techniques. This helped us identify groups of similar assets and behaviors, simplifying the complexity inherent in the dataset. Moreover, by implementing Principal Component Analysis (PCA), we reduced the number of correlated features into a smaller set of representative components, significantly boosting our computational efficiency without losing too much informational content."
      ],
      "metadata": {
        "id": "CcB-OtReXX3q"
      }
    },
    {
      "cell_type": "markdown",
      "source": [
        "### Modeling Approach\n",
        "\n",
        "Once we had our data nicely preprocessed, our next focus was on building models that could accurately capture the dynamics of the crypto market. Here’s how we approached this phase:\n",
        "\n",
        "1. Baseline Models and Initial Experiments:  \n",
        "   We started by testing some straightforward models like linear regression and decision trees. These models were a good starting point—they allowed us to get a quick sense of which features were most influential and to establish a performance baseline.\n",
        "\n",
        "2. Exploring Nonlinear Models and Ensembles:  \n",
        "   Recognizing that crypto markets are highly nonlinear and volatile, we soon moved to more complex models. We experimented with ensemble methods such as Random Forests and Gradient Boosting Machines (GBM). These models helped us capture the non-linear interactions in the data more effectively. We also explored Support Vector Machines (SVMs) with kernel methods to further address non-linear relationships within our feature space.\n",
        "\n",
        "3. Iterative Testing and Evaluation:  \n",
        "   Every model was subjected to rigorous evaluation using cross-validation. We used metrics like mean squared error for regression tasks and accuracy or F1-scores. This iterative testing process allowed us to tweak the models—adjusting hyperparameters and refining our features—until we found a good balance between model complexity and performance.\n",
        "\n",
        "4. Reflecting on Our Approach:  \n",
        "   One of the most valuable lessons we learned was the impact of our preprocessing efforts on the overall model performance. The thoughtful creation of features and the reduction of dimensionality not only simplified the modeling process but also enhanced accuracy. The initial experiments with simpler models helped guide our transition to more sophisticated methods, affirming that sometimes the basics are the building blocks for tackling more complex dynamics."
      ],
      "metadata": {
        "id": "GHjvT9a5XnvQ"
      }
    },
    {
      "cell_type": "markdown",
      "metadata": {
        "id": "_SljnhkIUEPM"
      },
      "source": [
        "This is your baseline DNN model. Remember to [seed all your experiments](https://pytorch.org/docs/stable/notes/randomness.html#reproducibility) for reproducibility."
      ]
    },
    {
      "cell_type": "code",
      "metadata": {
        "id": "_0zQ1_EIUGil",
        "colab": {
          "base_uri": "https://localhost:8080/",
          "height": 191
        },
        "outputId": "b10b0a11-21cf-442f-f95a-72198935ba13"
      },
      "source": [
        "K, (N, p), Nx, Ny = 50, tXY.shape, 20000, len(pY)  # samples, dataset dim, train set size, forecast set size\n",
        "LtX, LtY = [], []\n",
        "for i in range(N-Ny-K, N-Ny):                     # populate K samples with past X series and future Y series\n",
        "  LtX.append(tXY.iloc[(i-Nx):i, :].values)        # X: historical 7Dim observations for Nx steps behind\n",
        "  LtY.append(tXY.loc[i:(i+Ny-1),'Close'].values)  # Y: future closing prices for Ny steps ahead\n",
        "taX, taY = np.array(LtX), np.array(LtY)           # training arrays past input X and future output Y\n",
        "print(f'taX.shape=(K,Nx,p)={taX.shape}; taY=(K,Ny)={taY.shape}')  # convert to 3-tensors\n",
        "\n",
        "df = pd.DataFrame(np.r_[taX[0,:,4], taY[0,:]], columns=['train train price'])\n",
        "ax = df.plot(figsize=(30,3), title=f'Training series (before and after)- just a closing price series (out of K={K})');\n",
        "pd.DataFrame(taX[0,:,4], columns=['train past price']).plot(grid=True, ax=ax);"
      ],
      "execution_count": null,
      "outputs": [
        {
          "output_type": "stream",
          "name": "stdout",
          "text": [
            "taX.shape=(K,Nx,p)=(50, 20000, 7); taY=(K,Ny)=(50, 24431)\n"
          ]
        },
        {
          "output_type": "display_data",
          "data": {
            "text/plain": [
              "<Figure size 3000x300 with 1 Axes>"
            ],
            "image/png": "[encoded data removed]"
          },
          "metadata": {}
        }
      ]
    },
    {
      "cell_type": "markdown",
      "metadata": {
        "id": "Qszqi_GVUJMC"
      },
      "source": [
        "Build an LSTM model with two hidden layers. It splits $K$ samples into batches with 7D series $X_{N_x\\times p}$ as input and 1D series $Y_{N_y\\times 1}$ as output.\n"
      ]
    },
    {
      "cell_type": "markdown",
      "metadata": {
        "id": "Y4U8JH30UN2j"
      },
      "source": [
        "The plot below: the model memorized the prices from recent history (plus some local noise). Still you can use these predictions to visually (i.e. qualitatively) determine whether predictions are meaningful (i.e. have price-like shape) or just noise."
      ]
    },
    {
      "cell_type": "code",
      "source": [
        "def add_technical_indicators(df):\n",
        "    # Простые скользящие средние\n",
        "    df['SMA_7'] = df['Close'].rolling(window=7).mean()\n",
        "    df['SMA_14'] = df['Close'].rolling(window=14).mean()\n",
        "\n",
        "    # Экспоненциальные скользящие средние\n",
        "    df['EMA_7'] = df['Close'].ewm(span=7, adjust=False).mean()\n",
        "    df['EMA_14'] = df['Close'].ewm(span=14, adjust=False).mean()\n",
        "\n",
        "    # RSI (индекс относительной силы)\n",
        "    delta = df['Close'].diff()\n",
        "    gain = (delta.where(delta > 0, 0)).rolling(window=14).mean()\n",
        "    loss = (-delta.where(delta < 0, 0)).rolling(window=14).mean()\n",
        "    rs = gain / loss\n",
        "    df['RSI'] = 100 - (100 / (1 + rs))\n",
        "\n",
        "    # MACD\n",
        "    exp12 = df['Close'].ewm(span=12, adjust=False).mean()\n",
        "    exp26 = df['Close'].ewm(span=26, adjust=False).mean()\n",
        "    df['MACD'] = exp12 - exp26\n",
        "    df['Signal_Line'] = df['MACD'].ewm(span=9, adjust=False).mean()\n",
        "\n",
        "    # Bollinger Bands\n",
        "    rolling_mean = df['Close'].rolling(window=20).mean()\n",
        "    rolling_std = df['Close'].rolling(window=20).std()\n",
        "    df['Upper_Band'] = rolling_mean + (rolling_std * 2)\n",
        "    df['Lower_Band'] = rolling_mean - (rolling_std * 2)\n",
        "\n",
        "    return df.dropna()\n",
        "\n",
        "# Оптимизация данных перед обработкой\n",
        "def optimize_data_processing(df):\n",
        "    # Преобразуем индекс в DatetimeIndex, если это еще не сделано\n",
        "    if not isinstance(df.index, pd.DatetimeIndex):\n",
        "        df = df.copy()\n",
        "        df.index = pd.to_datetime(df.index)  # Убедимся, что индекс — это время\n",
        "\n",
        "    # Оптимизация типов данных\n",
        "    float_cols = df.select_dtypes(include=['float64']).columns\n",
        "    df.loc[:, float_cols] = df[float_cols].astype('float32')\n",
        "\n",
        "    # Удаление дубликатов\n",
        "    df = df[~df.index.duplicated(keep='last')]\n",
        "\n",
        "    # Интерполяция пропущенных значений\n",
        "    df = df.interpolate(method='time')  # Теперь индекс должен быть корректным\n",
        "\n",
        "    return df\n",
        "\n",
        "tXY = add_technical_indicators(tXY)\n",
        "tXY = optimize_data_processing(tXY)\n",
        "\n",
        "# Нормализация данных с оптимизацией\n",
        "scaler = StandardScaler()\n",
        "cols_to_scale = [col for col in tXY.columns if col != 'Close']\n",
        "tXY.loc[:, cols_to_scale] = scaler.fit_transform(tXY[cols_to_scale])\n",
        "\n",
        "# Оптимизированное создание последовательностей\n",
        "K, (N, p), Nx, Ny = 80, tXY.shape, 15000, len(pY)  # Уменьшены параметры для экономии памяти\n",
        "LtX, LtY = [], []\n",
        "\n",
        "for i in range(N-Ny-K, N-Ny):\n",
        "    window = tXY.iloc[(i-Nx):i, :].values\n",
        "\n",
        "    # Добавляем оптимизированные разностные признаки\n",
        "    diff_features = np.diff(window[:, :4], axis=0, prepend=0)\n",
        "    window = np.hstack([window, diff_features])\n",
        "\n",
        "    # Используем относительные изменения цены как цель\n",
        "    last_price = tXY.iloc[i-1]['Close']\n",
        "    future_prices = tXY.iloc[i:(i+Ny), tXY.columns.get_loc('Close')].values\n",
        "    relative_changes = (future_prices - last_price) / last_price\n",
        "\n",
        "    LtX.append(window)\n",
        "    LtY.append(relative_changes)\n",
        "\n",
        "taX, taY = np.array(LtX, dtype='float32'), np.array(LtY, dtype='float32')\n",
        "\n",
        "# Оптимизированная модель с экономией памяти\n",
        "class MemoryEfficientLSTM(nn.Module):\n",
        "    def __init__(self, input_size, output_size, hidden_size=128, num_layers=2):\n",
        "        super().__init__()\n",
        "        self.lstm = nn.LSTM(input_size, hidden_size, num_layers, batch_first=True, dropout=0.1)\n",
        "        self.attention = nn.Sequential(\n",
        "            nn.Linear(hidden_size, 64),\n",
        "            nn.Tanh(),\n",
        "            nn.Linear(64, 1)\n",
        "        )\n",
        "        self.output = nn.Sequential(\n",
        "            nn.Linear(hidden_size, 64),\n",
        "            nn.ReLU(),\n",
        "            nn.Linear(64, output_size)\n",
        "        )\n",
        "\n",
        "    def forward(self, x):\n",
        "        x, _ = torch.utils.checkpoint.checkpoint(self.lstm, x)  # Gradient checkpointing\n",
        "        attn_weights = torch.softmax(self.attention(x), dim=1)\n",
        "        context = (attn_weights * x).sum(dim=1)\n",
        "        return self.output(context)\n",
        "\n",
        "# Инициализация модели с mixed precision\n",
        "model = MemoryEfficientLSTM(taX.shape[2], Ny).to(device)\n",
        "optimizer = torch.optim.AdamW(model.parameters(), lr=0.0005)\n",
        "criterion = nn.HuberLoss()\n",
        "scaler = torch.cuda.amp.GradScaler()\n",
        "\n",
        "# Оптимизированный DataLoader\n",
        "ds = TensorDataset(torch.tensor(taX), torch.tensor(taY))\n",
        "train_ds, val_ds = random_split(ds, [0.9, 0.1])\n",
        "train_dl = DataLoader(train_ds, batch_size=16, shuffle=True, pin_memory=True)\n",
        "val_dl = DataLoader(val_ds, batch_size=16, pin_memory=True)\n",
        "\n",
        "# Обучение с оптимизацией памяти\n",
        "for epoch in range(30):\n",
        "    model.train()\n",
        "    for X, Y in train_dl:\n",
        "        with torch.cuda.amp.autocast():\n",
        "            pred = model(X.to(device))\n",
        "            loss = criterion(pred, Y.to(device))\n",
        "\n",
        "        scaler.scale(loss).backward()\n",
        "        scaler.step(optimizer)\n",
        "        scaler.update()\n",
        "        optimizer.zero_grad(set_to_none=True)\n",
        "        torch.cuda.empty_cache()\n",
        "\n",
        "# Прогнозирование с восстановлением абсолютных цен\n",
        "model.eval()\n",
        "with torch.no_grad(), torch.cuda.amp.autocast():\n",
        "    last_price = tXY.iloc[-1]['Close']\n",
        "    window = tXY.iloc[-Nx:].values\n",
        "    diff_features = np.diff(window[:, :4], axis=0, prepend=0)\n",
        "    window = np.hstack([window, diff_features])\n",
        "    changes = model(torch.tensor(window[np.newaxis], dtype=torch.float32).to(device))\n",
        "    predicted_prices = last_price * (1 + changes.cpu().numpy().reshape(-1))\n",
        "    pY['Close'] = predicted_prices\n",
        "\n",
        "# Визуализация и сохранение\n",
        "ax = pd.concat([tXY.iloc[-1000:].Close, pY.Close]).plot(figsize=(30,3))\n",
        "ToCSV(pY, 'Crypto-optimized')"
      ],
      "metadata": {
        "colab": {
          "base_uri": "https://localhost:8080/",
          "height": 1000
        },
        "id": "WZzLFora-fC1",
        "outputId": "8e3aeade-1a54-4d98-a508-5ab0f0497da4"
      },
      "execution_count": null,
      "outputs": [
        {
          "output_type": "stream",
          "name": "stderr",
          "text": [
            "<ipython-input-37-2828b469ca1f>:105: FutureWarning: `torch.cuda.amp.GradScaler(args...)` is deprecated. Please use `torch.amp.GradScaler('cuda', args...)` instead.\n",
            "  scaler = torch.cuda.amp.GradScaler()\n"
          ]
        },
        {
          "output_type": "execute_result",
          "data": {
            "text/plain": [
              "MemoryEfficientLSTM(\n",
              "  (lstm): LSTM(20, 128, num_layers=2, batch_first=True, dropout=0.1)\n",
              "  (attention): Sequential(\n",
              "    (0): Linear(in_features=128, out_features=64, bias=True)\n",
              "    (1): Tanh()\n",
              "    (2): Linear(in_features=64, out_features=1, bias=True)\n",
              "  )\n",
              "  (output): Sequential(\n",
              "    (0): Linear(in_features=128, out_features=64, bias=True)\n",
              "    (1): ReLU()\n",
              "    (2): Linear(in_features=64, out_features=24431, bias=True)\n",
              "  )\n",
              ")"
            ]
          },
          "metadata": {},
          "execution_count": 37
        },
        {
          "output_type": "stream",
          "name": "stderr",
          "text": [
            "<ipython-input-37-2828b469ca1f>:117: FutureWarning: `torch.cuda.amp.autocast(args...)` is deprecated. Please use `torch.amp.autocast('cuda', args...)` instead.\n",
            "  with torch.cuda.amp.autocast():\n",
            "/usr/local/lib/python3.11/dist-packages/torch/_dynamo/eval_frame.py:745: UserWarning: torch.utils.checkpoint: the use_reentrant parameter should be passed explicitly. In version 2.5 we will raise an exception if use_reentrant is not passed. use_reentrant=False is recommended, but if you need to preserve the current default behavior, you can pass use_reentrant=True. Refer to docs for more details on the differences between the two variants.\n",
            "  return fn(*args, **kwargs)\n",
            "/usr/local/lib/python3.11/dist-packages/torch/utils/checkpoint.py:87: UserWarning: None of the inputs have requires_grad=True. Gradients will be None\n",
            "  warnings.warn(\n"
          ]
        },
        {
          "output_type": "execute_result",
          "data": {
            "text/plain": [
              "MemoryEfficientLSTM(\n",
              "  (lstm): LSTM(20, 128, num_layers=2, batch_first=True, dropout=0.1)\n",
              "  (attention): Sequential(\n",
              "    (0): Linear(in_features=128, out_features=64, bias=True)\n",
              "    (1): Tanh()\n",
              "    (2): Linear(in_features=64, out_features=1, bias=True)\n",
              "  )\n",
              "  (output): Sequential(\n",
              "    (0): Linear(in_features=128, out_features=64, bias=True)\n",
              "    (1): ReLU()\n",
              "    (2): Linear(in_features=64, out_features=24431, bias=True)\n",
              "  )\n",
              ")"
            ]
          },
          "metadata": {},
          "execution_count": 37
        },
        {
          "output_type": "execute_result",
          "data": {
            "text/plain": [
              "MemoryEfficientLSTM(\n",
              "  (lstm): LSTM(20, 128, num_layers=2, batch_first=True, dropout=0.1)\n",
              "  (attention): Sequential(\n",
              "    (0): Linear(in_features=128, out_features=64, bias=True)\n",
              "    (1): Tanh()\n",
              "    (2): Linear(in_features=64, out_features=1, bias=True)\n",
              "  )\n",
              "  (output): Sequential(\n",
              "    (0): Linear(in_features=128, out_features=64, bias=True)\n",
              "    (1): ReLU()\n",
              "    (2): Linear(in_features=64, out_features=24431, bias=True)\n",
              "  )\n",
              ")"
            ]
          },
          "metadata": {},
          "execution_count": 37
        },
        {
          "output_type": "execute_result",
          "data": {
            "text/plain": [
              "MemoryEfficientLSTM(\n",
              "  (lstm): LSTM(20, 128, num_layers=2, batch_first=True, dropout=0.1)\n",
              "  (attention): Sequential(\n",
              "    (0): Linear(in_features=128, out_features=64, bias=True)\n",
              "    (1): Tanh()\n",
              "    (2): Linear(in_features=64, out_features=1, bias=True)\n",
              "  )\n",
              "  (output): Sequential(\n",
              "    (0): Linear(in_features=128, out_features=64, bias=True)\n",
              "    (1): ReLU()\n",
              "    (2): Linear(in_features=64, out_features=24431, bias=True)\n",
              "  )\n",
              ")"
            ]
          },
          "metadata": {},
          "execution_count": 37
        },
        {
          "output_type": "execute_result",
          "data": {
            "text/plain": [
              "MemoryEfficientLSTM(\n",
              "  (lstm): LSTM(20, 128, num_layers=2, batch_first=True, dropout=0.1)\n",
              "  (attention): Sequential(\n",
              "    (0): Linear(in_features=128, out_features=64, bias=True)\n",
              "    (1): Tanh()\n",
              "    (2): Linear(in_features=64, out_features=1, bias=True)\n",
              "  )\n",
              "  (output): Sequential(\n",
              "    (0): Linear(in_features=128, out_features=64, bias=True)\n",
              "    (1): ReLU()\n",
              "    (2): Linear(in_features=64, out_features=24431, bias=True)\n",
              "  )\n",
              ")"
            ]
          },
          "metadata": {},
          "execution_count": 37
        },
        {
          "output_type": "execute_result",
          "data": {
            "text/plain": [
              "MemoryEfficientLSTM(\n",
              "  (lstm): LSTM(20, 128, num_layers=2, batch_first=True, dropout=0.1)\n",
              "  (attention): Sequential(\n",
              "    (0): Linear(in_features=128, out_features=64, bias=True)\n",
              "    (1): Tanh()\n",
              "    (2): Linear(in_features=64, out_features=1, bias=True)\n",
              "  )\n",
              "  (output): Sequential(\n",
              "    (0): Linear(in_features=128, out_features=64, bias=True)\n",
              "    (1): ReLU()\n",
              "    (2): Linear(in_features=64, out_features=24431, bias=True)\n",
              "  )\n",
              ")"
            ]
          },
          "metadata": {},
          "execution_count": 37
        },
        {
          "output_type": "execute_result",
          "data": {
            "text/plain": [
              "MemoryEfficientLSTM(\n",
              "  (lstm): LSTM(20, 128, num_layers=2, batch_first=True, dropout=0.1)\n",
              "  (attention): Sequential(\n",
              "    (0): Linear(in_features=128, out_features=64, bias=True)\n",
              "    (1): Tanh()\n",
              "    (2): Linear(in_features=64, out_features=1, bias=True)\n",
              "  )\n",
              "  (output): Sequential(\n",
              "    (0): Linear(in_features=128, out_features=64, bias=True)\n",
              "    (1): ReLU()\n",
              "    (2): Linear(in_features=64, out_features=24431, bias=True)\n",
              "  )\n",
              ")"
            ]
          },
          "metadata": {},
          "execution_count": 37
        },
        {
          "output_type": "execute_result",
          "data": {
            "text/plain": [
              "MemoryEfficientLSTM(\n",
              "  (lstm): LSTM(20, 128, num_layers=2, batch_first=True, dropout=0.1)\n",
              "  (attention): Sequential(\n",
              "    (0): Linear(in_features=128, out_features=64, bias=True)\n",
              "    (1): Tanh()\n",
              "    (2): Linear(in_features=64, out_features=1, bias=True)\n",
              "  )\n",
              "  (output): Sequential(\n",
              "    (0): Linear(in_features=128, out_features=64, bias=True)\n",
              "    (1): ReLU()\n",
              "    (2): Linear(in_features=64, out_features=24431, bias=True)\n",
              "  )\n",
              ")"
            ]
          },
          "metadata": {},
          "execution_count": 37
        },
        {
          "output_type": "execute_result",
          "data": {
            "text/plain": [
              "MemoryEfficientLSTM(\n",
              "  (lstm): LSTM(20, 128, num_layers=2, batch_first=True, dropout=0.1)\n",
              "  (attention): Sequential(\n",
              "    (0): Linear(in_features=128, out_features=64, bias=True)\n",
              "    (1): Tanh()\n",
              "    (2): Linear(in_features=64, out_features=1, bias=True)\n",
              "  )\n",
              "  (output): Sequential(\n",
              "    (0): Linear(in_features=128, out_features=64, bias=True)\n",
              "    (1): ReLU()\n",
              "    (2): Linear(in_features=64, out_features=24431, bias=True)\n",
              "  )\n",
              ")"
            ]
          },
          "metadata": {},
          "execution_count": 37
        },
        {
          "output_type": "execute_result",
          "data": {
            "text/plain": [
              "MemoryEfficientLSTM(\n",
              "  (lstm): LSTM(20, 128, num_layers=2, batch_first=True, dropout=0.1)\n",
              "  (attention): Sequential(\n",
              "    (0): Linear(in_features=128, out_features=64, bias=True)\n",
              "    (1): Tanh()\n",
              "    (2): Linear(in_features=64, out_features=1, bias=True)\n",
              "  )\n",
              "  (output): Sequential(\n",
              "    (0): Linear(in_features=128, out_features=64, bias=True)\n",
              "    (1): ReLU()\n",
              "    (2): Linear(in_features=64, out_features=24431, bias=True)\n",
              "  )\n",
              ")"
            ]
          },
          "metadata": {},
          "execution_count": 37
        },
        {
          "output_type": "execute_result",
          "data": {
            "text/plain": [
              "MemoryEfficientLSTM(\n",
              "  (lstm): LSTM(20, 128, num_layers=2, batch_first=True, dropout=0.1)\n",
              "  (attention): Sequential(\n",
              "    (0): Linear(in_features=128, out_features=64, bias=True)\n",
              "    (1): Tanh()\n",
              "    (2): Linear(in_features=64, out_features=1, bias=True)\n",
              "  )\n",
              "  (output): Sequential(\n",
              "    (0): Linear(in_features=128, out_features=64, bias=True)\n",
              "    (1): ReLU()\n",
              "    (2): Linear(in_features=64, out_features=24431, bias=True)\n",
              "  )\n",
              ")"
            ]
          },
          "metadata": {},
          "execution_count": 37
        },
        {
          "output_type": "execute_result",
          "data": {
            "text/plain": [
              "MemoryEfficientLSTM(\n",
              "  (lstm): LSTM(20, 128, num_layers=2, batch_first=True, dropout=0.1)\n",
              "  (attention): Sequential(\n",
              "    (0): Linear(in_features=128, out_features=64, bias=True)\n",
              "    (1): Tanh()\n",
              "    (2): Linear(in_features=64, out_features=1, bias=True)\n",
              "  )\n",
              "  (output): Sequential(\n",
              "    (0): Linear(in_features=128, out_features=64, bias=True)\n",
              "    (1): ReLU()\n",
              "    (2): Linear(in_features=64, out_features=24431, bias=True)\n",
              "  )\n",
              ")"
            ]
          },
          "metadata": {},
          "execution_count": 37
        },
        {
          "output_type": "execute_result",
          "data": {
            "text/plain": [
              "MemoryEfficientLSTM(\n",
              "  (lstm): LSTM(20, 128, num_layers=2, batch_first=True, dropout=0.1)\n",
              "  (attention): Sequential(\n",
              "    (0): Linear(in_features=128, out_features=64, bias=True)\n",
              "    (1): Tanh()\n",
              "    (2): Linear(in_features=64, out_features=1, bias=True)\n",
              "  )\n",
              "  (output): Sequential(\n",
              "    (0): Linear(in_features=128, out_features=64, bias=True)\n",
              "    (1): ReLU()\n",
              "    (2): Linear(in_features=64, out_features=24431, bias=True)\n",
              "  )\n",
              ")"
            ]
          },
          "metadata": {},
          "execution_count": 37
        },
        {
          "output_type": "execute_result",
          "data": {
            "text/plain": [
              "MemoryEfficientLSTM(\n",
              "  (lstm): LSTM(20, 128, num_layers=2, batch_first=True, dropout=0.1)\n",
              "  (attention): Sequential(\n",
              "    (0): Linear(in_features=128, out_features=64, bias=True)\n",
              "    (1): Tanh()\n",
              "    (2): Linear(in_features=64, out_features=1, bias=True)\n",
              "  )\n",
              "  (output): Sequential(\n",
              "    (0): Linear(in_features=128, out_features=64, bias=True)\n",
              "    (1): ReLU()\n",
              "    (2): Linear(in_features=64, out_features=24431, bias=True)\n",
              "  )\n",
              ")"
            ]
          },
          "metadata": {},
          "execution_count": 37
        },
        {
          "output_type": "execute_result",
          "data": {
            "text/plain": [
              "MemoryEfficientLSTM(\n",
              "  (lstm): LSTM(20, 128, num_layers=2, batch_first=True, dropout=0.1)\n",
              "  (attention): Sequential(\n",
              "    (0): Linear(in_features=128, out_features=64, bias=True)\n",
              "    (1): Tanh()\n",
              "    (2): Linear(in_features=64, out_features=1, bias=True)\n",
              "  )\n",
              "  (output): Sequential(\n",
              "    (0): Linear(in_features=128, out_features=64, bias=True)\n",
              "    (1): ReLU()\n",
              "    (2): Linear(in_features=64, out_features=24431, bias=True)\n",
              "  )\n",
              ")"
            ]
          },
          "metadata": {},
          "execution_count": 37
        },
        {
          "output_type": "execute_result",
          "data": {
            "text/plain": [
              "MemoryEfficientLSTM(\n",
              "  (lstm): LSTM(20, 128, num_layers=2, batch_first=True, dropout=0.1)\n",
              "  (attention): Sequential(\n",
              "    (0): Linear(in_features=128, out_features=64, bias=True)\n",
              "    (1): Tanh()\n",
              "    (2): Linear(in_features=64, out_features=1, bias=True)\n",
              "  )\n",
              "  (output): Sequential(\n",
              "    (0): Linear(in_features=128, out_features=64, bias=True)\n",
              "    (1): ReLU()\n",
              "    (2): Linear(in_features=64, out_features=24431, bias=True)\n",
              "  )\n",
              ")"
            ]
          },
          "metadata": {},
          "execution_count": 37
        },
        {
          "output_type": "execute_result",
          "data": {
            "text/plain": [
              "MemoryEfficientLSTM(\n",
              "  (lstm): LSTM(20, 128, num_layers=2, batch_first=True, dropout=0.1)\n",
              "  (attention): Sequential(\n",
              "    (0): Linear(in_features=128, out_features=64, bias=True)\n",
              "    (1): Tanh()\n",
              "    (2): Linear(in_features=64, out_features=1, bias=True)\n",
              "  )\n",
              "  (output): Sequential(\n",
              "    (0): Linear(in_features=128, out_features=64, bias=True)\n",
              "    (1): ReLU()\n",
              "    (2): Linear(in_features=64, out_features=24431, bias=True)\n",
              "  )\n",
              ")"
            ]
          },
          "metadata": {},
          "execution_count": 37
        },
        {
          "output_type": "execute_result",
          "data": {
            "text/plain": [
              "MemoryEfficientLSTM(\n",
              "  (lstm): LSTM(20, 128, num_layers=2, batch_first=True, dropout=0.1)\n",
              "  (attention): Sequential(\n",
              "    (0): Linear(in_features=128, out_features=64, bias=True)\n",
              "    (1): Tanh()\n",
              "    (2): Linear(in_features=64, out_features=1, bias=True)\n",
              "  )\n",
              "  (output): Sequential(\n",
              "    (0): Linear(in_features=128, out_features=64, bias=True)\n",
              "    (1): ReLU()\n",
              "    (2): Linear(in_features=64, out_features=24431, bias=True)\n",
              "  )\n",
              ")"
            ]
          },
          "metadata": {},
          "execution_count": 37
        },
        {
          "output_type": "execute_result",
          "data": {
            "text/plain": [
              "MemoryEfficientLSTM(\n",
              "  (lstm): LSTM(20, 128, num_layers=2, batch_first=True, dropout=0.1)\n",
              "  (attention): Sequential(\n",
              "    (0): Linear(in_features=128, out_features=64, bias=True)\n",
              "    (1): Tanh()\n",
              "    (2): Linear(in_features=64, out_features=1, bias=True)\n",
              "  )\n",
              "  (output): Sequential(\n",
              "    (0): Linear(in_features=128, out_features=64, bias=True)\n",
              "    (1): ReLU()\n",
              "    (2): Linear(in_features=64, out_features=24431, bias=True)\n",
              "  )\n",
              ")"
            ]
          },
          "metadata": {},
          "execution_count": 37
        },
        {
          "output_type": "execute_result",
          "data": {
            "text/plain": [
              "MemoryEfficientLSTM(\n",
              "  (lstm): LSTM(20, 128, num_layers=2, batch_first=True, dropout=0.1)\n",
              "  (attention): Sequential(\n",
              "    (0): Linear(in_features=128, out_features=64, bias=True)\n",
              "    (1): Tanh()\n",
              "    (2): Linear(in_features=64, out_features=1, bias=True)\n",
              "  )\n",
              "  (output): Sequential(\n",
              "    (0): Linear(in_features=128, out_features=64, bias=True)\n",
              "    (1): ReLU()\n",
              "    (2): Linear(in_features=64, out_features=24431, bias=True)\n",
              "  )\n",
              ")"
            ]
          },
          "metadata": {},
          "execution_count": 37
        },
        {
          "output_type": "execute_result",
          "data": {
            "text/plain": [
              "MemoryEfficientLSTM(\n",
              "  (lstm): LSTM(20, 128, num_layers=2, batch_first=True, dropout=0.1)\n",
              "  (attention): Sequential(\n",
              "    (0): Linear(in_features=128, out_features=64, bias=True)\n",
              "    (1): Tanh()\n",
              "    (2): Linear(in_features=64, out_features=1, bias=True)\n",
              "  )\n",
              "  (output): Sequential(\n",
              "    (0): Linear(in_features=128, out_features=64, bias=True)\n",
              "    (1): ReLU()\n",
              "    (2): Linear(in_features=64, out_features=24431, bias=True)\n",
              "  )\n",
              ")"
            ]
          },
          "metadata": {},
          "execution_count": 37
        },
        {
          "output_type": "execute_result",
          "data": {
            "text/plain": [
              "MemoryEfficientLSTM(\n",
              "  (lstm): LSTM(20, 128, num_layers=2, batch_first=True, dropout=0.1)\n",
              "  (attention): Sequential(\n",
              "    (0): Linear(in_features=128, out_features=64, bias=True)\n",
              "    (1): Tanh()\n",
              "    (2): Linear(in_features=64, out_features=1, bias=True)\n",
              "  )\n",
              "  (output): Sequential(\n",
              "    (0): Linear(in_features=128, out_features=64, bias=True)\n",
              "    (1): ReLU()\n",
              "    (2): Linear(in_features=64, out_features=24431, bias=True)\n",
              "  )\n",
              ")"
            ]
          },
          "metadata": {},
          "execution_count": 37
        },
        {
          "output_type": "execute_result",
          "data": {
            "text/plain": [
              "MemoryEfficientLSTM(\n",
              "  (lstm): LSTM(20, 128, num_layers=2, batch_first=True, dropout=0.1)\n",
              "  (attention): Sequential(\n",
              "    (0): Linear(in_features=128, out_features=64, bias=True)\n",
              "    (1): Tanh()\n",
              "    (2): Linear(in_features=64, out_features=1, bias=True)\n",
              "  )\n",
              "  (output): Sequential(\n",
              "    (0): Linear(in_features=128, out_features=64, bias=True)\n",
              "    (1): ReLU()\n",
              "    (2): Linear(in_features=64, out_features=24431, bias=True)\n",
              "  )\n",
              ")"
            ]
          },
          "metadata": {},
          "execution_count": 37
        },
        {
          "output_type": "execute_result",
          "data": {
            "text/plain": [
              "MemoryEfficientLSTM(\n",
              "  (lstm): LSTM(20, 128, num_layers=2, batch_first=True, dropout=0.1)\n",
              "  (attention): Sequential(\n",
              "    (0): Linear(in_features=128, out_features=64, bias=True)\n",
              "    (1): Tanh()\n",
              "    (2): Linear(in_features=64, out_features=1, bias=True)\n",
              "  )\n",
              "  (output): Sequential(\n",
              "    (0): Linear(in_features=128, out_features=64, bias=True)\n",
              "    (1): ReLU()\n",
              "    (2): Linear(in_features=64, out_features=24431, bias=True)\n",
              "  )\n",
              ")"
            ]
          },
          "metadata": {},
          "execution_count": 37
        },
        {
          "output_type": "execute_result",
          "data": {
            "text/plain": [
              "MemoryEfficientLSTM(\n",
              "  (lstm): LSTM(20, 128, num_layers=2, batch_first=True, dropout=0.1)\n",
              "  (attention): Sequential(\n",
              "    (0): Linear(in_features=128, out_features=64, bias=True)\n",
              "    (1): Tanh()\n",
              "    (2): Linear(in_features=64, out_features=1, bias=True)\n",
              "  )\n",
              "  (output): Sequential(\n",
              "    (0): Linear(in_features=128, out_features=64, bias=True)\n",
              "    (1): ReLU()\n",
              "    (2): Linear(in_features=64, out_features=24431, bias=True)\n",
              "  )\n",
              ")"
            ]
          },
          "metadata": {},
          "execution_count": 37
        },
        {
          "output_type": "execute_result",
          "data": {
            "text/plain": [
              "MemoryEfficientLSTM(\n",
              "  (lstm): LSTM(20, 128, num_layers=2, batch_first=True, dropout=0.1)\n",
              "  (attention): Sequential(\n",
              "    (0): Linear(in_features=128, out_features=64, bias=True)\n",
              "    (1): Tanh()\n",
              "    (2): Linear(in_features=64, out_features=1, bias=True)\n",
              "  )\n",
              "  (output): Sequential(\n",
              "    (0): Linear(in_features=128, out_features=64, bias=True)\n",
              "    (1): ReLU()\n",
              "    (2): Linear(in_features=64, out_features=24431, bias=True)\n",
              "  )\n",
              ")"
            ]
          },
          "metadata": {},
          "execution_count": 37
        },
        {
          "output_type": "execute_result",
          "data": {
            "text/plain": [
              "MemoryEfficientLSTM(\n",
              "  (lstm): LSTM(20, 128, num_layers=2, batch_first=True, dropout=0.1)\n",
              "  (attention): Sequential(\n",
              "    (0): Linear(in_features=128, out_features=64, bias=True)\n",
              "    (1): Tanh()\n",
              "    (2): Linear(in_features=64, out_features=1, bias=True)\n",
              "  )\n",
              "  (output): Sequential(\n",
              "    (0): Linear(in_features=128, out_features=64, bias=True)\n",
              "    (1): ReLU()\n",
              "    (2): Linear(in_features=64, out_features=24431, bias=True)\n",
              "  )\n",
              ")"
            ]
          },
          "metadata": {},
          "execution_count": 37
        },
        {
          "output_type": "execute_result",
          "data": {
            "text/plain": [
              "MemoryEfficientLSTM(\n",
              "  (lstm): LSTM(20, 128, num_layers=2, batch_first=True, dropout=0.1)\n",
              "  (attention): Sequential(\n",
              "    (0): Linear(in_features=128, out_features=64, bias=True)\n",
              "    (1): Tanh()\n",
              "    (2): Linear(in_features=64, out_features=1, bias=True)\n",
              "  )\n",
              "  (output): Sequential(\n",
              "    (0): Linear(in_features=128, out_features=64, bias=True)\n",
              "    (1): ReLU()\n",
              "    (2): Linear(in_features=64, out_features=24431, bias=True)\n",
              "  )\n",
              ")"
            ]
          },
          "metadata": {},
          "execution_count": 37
        },
        {
          "output_type": "execute_result",
          "data": {
            "text/plain": [
              "MemoryEfficientLSTM(\n",
              "  (lstm): LSTM(20, 128, num_layers=2, batch_first=True, dropout=0.1)\n",
              "  (attention): Sequential(\n",
              "    (0): Linear(in_features=128, out_features=64, bias=True)\n",
              "    (1): Tanh()\n",
              "    (2): Linear(in_features=64, out_features=1, bias=True)\n",
              "  )\n",
              "  (output): Sequential(\n",
              "    (0): Linear(in_features=128, out_features=64, bias=True)\n",
              "    (1): ReLU()\n",
              "    (2): Linear(in_features=64, out_features=24431, bias=True)\n",
              "  )\n",
              ")"
            ]
          },
          "metadata": {},
          "execution_count": 37
        },
        {
          "output_type": "execute_result",
          "data": {
            "text/plain": [
              "MemoryEfficientLSTM(\n",
              "  (lstm): LSTM(20, 128, num_layers=2, batch_first=True, dropout=0.1)\n",
              "  (attention): Sequential(\n",
              "    (0): Linear(in_features=128, out_features=64, bias=True)\n",
              "    (1): Tanh()\n",
              "    (2): Linear(in_features=64, out_features=1, bias=True)\n",
              "  )\n",
              "  (output): Sequential(\n",
              "    (0): Linear(in_features=128, out_features=64, bias=True)\n",
              "    (1): ReLU()\n",
              "    (2): Linear(in_features=64, out_features=24431, bias=True)\n",
              "  )\n",
              ")"
            ]
          },
          "metadata": {},
          "execution_count": 37
        },
        {
          "output_type": "execute_result",
          "data": {
            "text/plain": [
              "MemoryEfficientLSTM(\n",
              "  (lstm): LSTM(20, 128, num_layers=2, batch_first=True, dropout=0.1)\n",
              "  (attention): Sequential(\n",
              "    (0): Linear(in_features=128, out_features=64, bias=True)\n",
              "    (1): Tanh()\n",
              "    (2): Linear(in_features=64, out_features=1, bias=True)\n",
              "  )\n",
              "  (output): Sequential(\n",
              "    (0): Linear(in_features=128, out_features=64, bias=True)\n",
              "    (1): ReLU()\n",
              "    (2): Linear(in_features=64, out_features=24431, bias=True)\n",
              "  )\n",
              ")"
            ]
          },
          "metadata": {},
          "execution_count": 37
        },
        {
          "output_type": "stream",
          "name": "stderr",
          "text": [
            "<ipython-input-37-2828b469ca1f>:129: FutureWarning: `torch.cuda.amp.autocast(args...)` is deprecated. Please use `torch.amp.autocast('cuda', args...)` instead.\n",
            "  with torch.no_grad(), torch.cuda.amp.autocast():\n"
          ]
        },
        {
          "output_type": "display_data",
          "data": {
            "text/plain": [
              "<Figure size 3000x300 with 1 Axes>"
            ],
            "image/png": "[encoded data removed]"
          },
          "metadata": {}
        }
      ]
    },
    {
      "cell_type": "markdown",
      "metadata": {
        "id": "OZWsxVIgURQm"
      },
      "source": [
        "1. The model generates a baseline submission CSV file, see Colab folder (🗀 on the left).\n",
        "1. You can download the generated CSV file and submit it to Kaggle."
      ]
    },
    {
      "cell_type": "markdown",
      "source": [
        "# **References:**"
      ],
      "metadata": {
        "id": "pzBsjCvS_kEw"
      }
    },
    {
      "cell_type": "markdown",
      "source": [
        "1. Remember to cite your sources here as well! At the least, your textbook should be cited. Google Scholar allows you to effortlessly copy/paste an APA citation format for books and publications. Also cite StackOverflow, package documentation, and other meaningful internet resources to help your peers learn from these (and to avoid plagiarism claims)."
      ],
      "metadata": {
        "id": "2kr8Q-9T_nAb"
      }
    },
    {
      "cell_type": "markdown",
      "metadata": {
        "id": "HZHs7admUZBW"
      },
      "source": [
        "<font size=5>⌛</font> <strong><font color=orange size=5>Do not exceed competition's runtime limit!</font></strong>\n",
        "\n",
        "<hr color=red>\n"
      ]
    },
    {
      "cell_type": "code",
      "metadata": {
        "id": "fbE5gM67Ub58"
      },
      "source": [
        "tmr.ShowTime()    # measure Colab's runtime. Do not remove. Keep as the last cell in your notebook."
      ],
      "execution_count": null,
      "outputs": []
    },
    {
      "cell_type": "markdown",
      "metadata": {
        "id": "9g16vCtCUbFq"
      },
      "source": [
        "# 💡**Starter Ideas**"
      ]
    },
    {
      "cell_type": "markdown",
      "metadata": {
        "id": "YvS32F27UjFW"
      },
      "source": [
        "1. Try different RNN architectures and hyperparameters\n",
        "1. Try [correlation loss/metric](https://duckduckgo.com/?q=correlation+loss+in+tensorflow&ia=web) (or equivalent)\n",
        "1. Try longer/shorter history. FYI: GPU may not fit all observations, but you could lower the precision or simplify DNN\n",
        "1. Try forecasting returns (differences or log differences at different lags) instead of actual values. Returns might appear \"more\" stationary (You'll need to compute forecasted prices from forecasted returns later)\n",
        "1. Try new features: differences, fractions, powers of existing features, lagged features or lagged differences,..\n",
        "1. Try a different time scale. Eg. forecasting every $k$ steps and then imputing interim values\n",
        "1. Try technique in HOML pp.509-510\n",
        "1. Try (programmatically) assigning higher/lower weights to history or historical events (such as extreme events)\n",
        "1. Check [Kaggle G-Research Crypto Forecasting](https://www.kaggle.com/c/g-research-crypto-forecasting/code) competition for more suitable ideas.\n",
        "1. Try further smoothing/averaging and forecasting values at sparser intervals\n",
        "1. Try forecasting just the future trend"
      ]
    },
    {
      "cell_type": "code",
      "source": [],
      "metadata": {
        "id": "g51WaOn1Iwin"
      },
      "execution_count": null,
      "outputs": []
    }
  ]
}